{
 "cells": [
  {
   "cell_type": "code",
   "execution_count": null,
   "metadata": {},
   "outputs": [],
   "source": [
    "Design Patterns: Standard referema points for the experienced user interface design.\n",
    "    \n",
    "Advantages:\n",
    "- Faster design procedure\n",
    "- Speed up development time \n",
    "- usable / reusable"
   ]
  },
  {
   "cell_type": "code",
   "execution_count": null,
   "metadata": {},
   "outputs": [],
   "source": [
    "Navigation Model:\n",
    " - Global Navigation: What's found on every main screen, normally show as menus, tabs, sidebar and this is how the user move around the web\n",
    " - Hub and Spoke: Mostly use in mobile application. HoS list all the components of the application onto the home screen. IT require user to go back to home screen if user want to navigate to a new page.\n",
    " - Fully Connected: This model allows the user to access everypages and components from everwhere in the product.\n",
    " - Multi Level: Like fully connected, but only the subpage is connected to each others, sub pages can be found on the side bar.\n",
    " - Clear entry points: Show the user where exactly they have to go first when entering the site.\n",
    " - Escape Hatch: A way for users to get back to the main section."
   ]
  },
  {
   "cell_type": "code",
   "execution_count": null,
   "metadata": {},
   "outputs": [],
   "source": [
    "Scenarios and Storyboards are part of the User Centered Design process as they create a better solution and communicate the user experience in a human way\n",
    "\n",
    "\n",
    "Benefit of Scenarios and Storyboard: \n",
    "- To confirm that the design is viable and realistica\n",
    "- Providing fundamental types of interaction that is needed for the design\n",
    "- To find errors that might have in the design\n",
    "- To find how the user flow when using the app\n",
    "- Avoid spending time re-do an already done task\n",
    "\n",
    "\n",
    "Relation between Scenarios and Storyboard: Scenarios help to create storyboards, most of the information u need to create a storyboard is already in scenarios. If u have a good scenarios then it is easier for you to create a storyboard\n"
   ]
  },
  {
   "cell_type": "code",
   "execution_count": null,
   "metadata": {},
   "outputs": [],
   "source": [
    "Paper prototypes are fast to build, fast to change and easy to iterate. It is also cheap because it uses cheap material, and takes very little time. Paper prototyping is also very flexible. Users are also more honest with their feedback more then when u give them a pixel perfect product\n",
    "\n",
    "\n",
    "Persona:  is need when we develop the scenario which later use to create the paper prototype\n",
    "\n",
    "\n",
    "Scenarios: To pick the most important feature that the user want to have in the user interface\n",
    "Using paper prototype as a testing method will provide:\n",
    "\n",
    " - Early user feedback: which help identify potential future issues and make necessary \n",
    " - User engagement: it is better to show users a paper prototype then a perfect-pixel design, paper prototype let the user open up and give truthful feedback with minimum drawback \n"
   ]
  }
 ],
 "metadata": {
  "language_info": {
   "name": "python"
  }
 },
 "nbformat": 4,
 "nbformat_minor": 2
}
