{
 "cells": [
  {
   "cell_type": "code",
   "execution_count": null,
   "metadata": {},
   "outputs": [],
   "source": [
    "Design Patterns: Standard referema points for the experienced user interface design.\n",
    "    \n",
    "Advantages:\n",
    "- Faster design procedure\n",
    "- Speed up development time \n",
    "- usable / reusable"
   ]
  },
  {
   "cell_type": "code",
   "execution_count": null,
   "metadata": {},
   "outputs": [],
   "source": [
    "Navigation Model:\n",
    " - Global Navigation: What's found on every main screen, normally show as menus, tabs, sidebar and this is how the user move around the web\n",
    " - Hub and Spoke: Mostly use in mobile application. HoS list all the components of the application onto the home screen. IT require user to go back to home screen if user want to navigate to a new page.\n",
    " - Fully Connected: This model allows the user to access everypages and components from everwhere in the product.\n",
    " - Multi Level: Like fully connected, but only the subpage is connected to each others, sub pages can be found on the side bar.\n",
    " - Clear entry points: Show the user where exactly they have to go first when entering the site.\n",
    " - Escape Hatch: A way for users to get back to the main section."
   ]
  }
 ],
 "metadata": {
  "language_info": {
   "name": "python"
  }
 },
 "nbformat": 4,
 "nbformat_minor": 2
}
