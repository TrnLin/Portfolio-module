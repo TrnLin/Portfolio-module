{
 "cells": [
  {
   "cell_type": "markdown",
   "metadata": {},
   "source": [
    "<center>\n",
    "\n",
    "# COSC3056 Programming Studio 1 Portfolio\n",
    "# Module 3: Building User Experiences and Interfaces\n",
    "\n",
    "</center>"
   ]
  },
  {
   "attachments": {},
   "cell_type": "markdown",
   "metadata": {
    "tags": [
     "q0;shorttext;0"
    ]
   },
   "source": [
    "This portfolio is created by\n",
    "\n",
    "| Name | *Tran Quoc Hung* |\n",
    "|---|---|\n",
    "| Student Id | *s4027060* |\n",
    "| Semester | Semester 3 2023 |"
   ]
  },
  {
   "attachments": {},
   "cell_type": "markdown",
   "metadata": {},
   "source": [
    "### Declaration and Statement of Authorship\n",
    "\n",
    "When you submit your work electronically for studio components, you must agree to the [RMIT assessment declaration](https://www.rmit.edu.au/students/my-course/assessment-results/assessment) below.\n",
    "\n",
    "1. I/we have not impersonated, or allowed myself to be impersonated by, any person for the purposes of this assessment.\n",
    "2. This assessment is my/our original work and no part of it has been copied from any other source except where due acknowledgement\n",
    "is made.\n",
    "3. No part of this assessment has been written for me/us by any other person except where such collaboration has been authorised\n",
    "by the lecturer/teacher concerned.\n",
    "4. Where this work is being submitted for individual assessment, I declare that it is my original work and that no part has been contributed\n",
    "by, produced by or in conjunction with another student.\n",
    "5. I/we give permission for my assessment response to be reproduced, communicated compared and archived for the purposes\n",
    "of detecting plagiarism.\n",
    "6. I/we give permission for a copy of my assessment to be retained by the university for review and comparison, including review by external examiners.\n",
    "7. I/we understand that:\n",
    "    - Plagiarism is the presentation of the work, idea or creation of another person as though it is your own. It is a form of cheating and is a very serious academic offence that may lead to exclusion from the University. Plagiarised material can be drawn from, and presented in, written, graphic and visual form, including electronic data and oral presentations. Plagiarism occurs when the origin of the material used is not appropriately cited.\n",
    "    - Plagiarism includes the act of assisting or allowing another person to plagiarise or to copy my work.\n",
    "    \n",
    "    \n",
    "I/we agree and acknowledge that:\n",
    "1. I/we have read and understood the Declaration and Statement of Authorship above.\n",
    "2. If I/we do not agree to the Declaration and Statement of Authorship in this context and a signature is not included below, the assessment outcome is not valid for assessment purposes and will not be included in my final result for this course.\n",
    "\n",
    "Visit the student essentials Academic Integrity page for more information on [academic integrity at RMIT](https://www.rmit.edu.au/students/my-course/assessment-results/academic-integrity), including your responsibilities,\n",
    "breaches and penalties for academic misconduct.\n",
    "\n",
    "\n",
    "### Student Signature\n",
    "\"_I/we declare that I/we have read and understood the above Declaration and Statement of Authorship._\"\n",
    "\n",
    "You must write your full name and student ID in the table in the markdown cell at the top of this portfolio.<br>\n",
    "**Failure to do so may result in a grade penalty or a grade of zero.**"
   ]
  },
  {
   "attachments": {},
   "cell_type": "markdown",
   "metadata": {},
   "source": [
    "<style>\n",
    "blockquote {\n",
    "  border: 3px dashed #00DCB4;\n",
    "  padding: 10px;\n",
    "}\n",
    "</style>\n",
    "\n",
    "> ## Instructions & Information\n",
    "> This notebook template has been provided to get you started on your portolfio. It is also structured for the automated marking tool SageGrader.\n",
    "> Therefore, we require that you use and edit the notebook correctly.\n",
    "> \n",
    "> ### How to use this Notebook for your Portfolio\n",
    "> To use your notebook, we kindly ask that:\n",
    "> 1. Place your answer to the question in the **existing** answer block, by double-clicking on the block you wish to edit.\n",
    "> 1. You **must not** delete any existing cells in this notebook and you **must not** modify any existing cell tags. If you accidentally delete a cell, you will need to ``undo'' the change, such using the  \"Edit → Undo\" VSCode menu option.\n",
    "> 1. In general, answer cells will have denoted placeholder content with dummy values, such as comments like *`my answer'*.\n",
    "> 1. You **must not** change any text in an existing cell that is **outside** of block to place your answers.\n",
    "> 1. To add images to this notebook you **must embedd the image** into the notebook. To do this:\n",
    ">     1. Find the image on your computer (Windows: File Explorer, Mac: Finder). Note the image can't have spaces in the filename\n",
    ">     1. \"Copy\" the image (Right-click on the image → Copy)\n",
    ">     1. \"Paste\" the image into the cell below (Double click to edit the cell → Right-click → Paste)\n",
    ">     1. If this is done correctly, you should see something of the form ``![image-name.png](attachment:image-name.png)``\n",
    ">     1. Please make sure to press the tick '✔️' on the cell containing the image to ensure the attachment is added\n",
    "> 1. Please see Canvas for additional assessment instructions. \n",
    ">\n",
    "> ### How to use Markdown syntax\n",
    "> This notebook uses the markdown syntax for formatting. For help on using Markdown, IBM has a good [Markdown Cheat-sheet](https://www.ibm.com/docs/en/watson-studio-local/1.2.3?topic=notebooks-markdown-jupyter-cheatsheet)."
   ]
  },
  {
   "attachments": {},
   "cell_type": "markdown",
   "metadata": {},
   "source": [
    "<style>\n",
    "h2 {\n",
    "   text-align: center;\n",
    "}\n",
    "hr {\n",
    "  border: none;\n",
    "  border-top: 6px ridge #04cfc5;\n",
    "}\n",
    "</style>\n",
    "___\n",
    "\n",
    "## Studio Class 9: Scenarios and Storyboarding\n",
    "\n",
    "### Preparation Activities"
   ]
  },
  {
   "attachments": {},
   "cell_type": "markdown",
   "metadata": {},
   "source": [
    "**Questions**"
   ]
  },
  {
   "attachments": {},
   "cell_type": "markdown",
   "metadata": {},
   "source": [
    "### **Studio Class (SC) 9, Question 1:** <a id=\"q9a\"></a>\n",
    "\n",
    "Why are Scenarios and Storyboards part of the User Centred Design process?"
   ]
  },
  {
   "attachments": {},
   "cell_type": "markdown",
   "metadata": {
    "tags": [
     "q9a;longtext;1"
    ]
   },
   "source": [
    "They provide a reality check in the design, which helps further in understanding of the user's story and behavior in reality."
   ]
  },
  {
   "attachments": {},
   "cell_type": "markdown",
   "metadata": {},
   "source": [
    "### **Studio Class (SC) 9, Question 2:** <a id=\"q9b\"></a>\n",
    "\n",
    "What the key benefits of Scenarios and Storyboards?"
   ]
  },
  {
   "attachments": {},
   "cell_type": "markdown",
   "metadata": {
    "tags": [
     "q9b;longtext;1"
    ]
   },
   "source": [
    "- Ensuring the design is workable\n",
    "- Describing required interactions\n",
    "- Uncovering error conditions\n",
    "- Predicting user behavior\n",
    "- Keeping the focus on meeting the user's needs and project goals"
   ]
  },
  {
   "attachments": {},
   "cell_type": "markdown",
   "metadata": {},
   "source": [
    "### **Studio Class (SC) 9, Question 3:** <a id=\"q9c\"></a>\n",
    "\n",
    "What the three important elements for creating good quality scenarios?"
   ]
  },
  {
   "attachments": {},
   "cell_type": "markdown",
   "metadata": {
    "tags": [
     "q9c;longtext;1"
    ]
   },
   "source": [
    "- Working in pair, as they have to say outloud what the user's action should be and should say it in a way that other person would understand, so when it was revisited, it makes sence.\n",
    "- Don't describe interfaces, describe the user's interaction.\n",
    "- Try acting out the scenarios."
   ]
  },
  {
   "attachments": {},
   "cell_type": "markdown",
   "metadata": {},
   "source": [
    "### **Studio Class (SC) 9, Question 4:** <a id=\"q9d\"></a>\n",
    "\n",
    "How do storyboards relate to scenarios?"
   ]
  },
  {
   "attachments": {},
   "cell_type": "markdown",
   "metadata": {
    "tags": [
     "q9d;longtext;1"
    ]
   },
   "source": [
    "- It ilustrate the interaction, emotion and actions of the user.\n",
    "- It brings attention to specific elements.\n",
    "- It shows the user's progression through the interface.\n",
    "- It demonstrate workflow quickly and visually."
   ]
  },
  {
   "attachments": {},
   "cell_type": "markdown",
   "metadata": {},
   "source": [
    "### **Studio Class (SC) 9, Question 5:** <a id=\"q9e\"></a>\n",
    "\n",
    "Provide the details of your prepared version of the Lynn Persona."
   ]
  },
  {
   "attachments": {},
   "cell_type": "markdown",
   "metadata": {
    "tags": [
     "q9e;longtext;1"
    ]
   },
   "source": [
    "Background: Mother in a family household. She has kids. Possibly working normal office job. \n",
    "Needs: A way to create, keep track and distribute tasks among members of the family.\n",
    "Goals: Having the house cleaned and organized through the distributed tasks as well as reward for completion.\n",
    "Skills & Experties: Minimum IT skills, basic skills regarding daily interactions with technological devices.\n",
    "Paint Points: Lack a way to keep track of the actual completion progress of each task that was distributed to the family members. Lack of a way to impose penalty when tasks are not completed on time or at all. Lack of automatic reward mechanism when tasks are done prior to the deadline."
   ]
  },
  {
   "attachments": {},
   "cell_type": "markdown",
   "metadata": {},
   "source": [
    "### Studio Class Work"
   ]
  },
  {
   "attachments": {},
   "cell_type": "markdown",
   "metadata": {},
   "source": [
    "**Questions**"
   ]
  },
  {
   "attachments": {},
   "cell_type": "markdown",
   "metadata": {},
   "source": [
    "### **Studio Class (SC) 9, Question 6:** <a id=\"q9f\"></a>\n",
    "\n",
    "Provide the image of your groups version of the Lynn Persona."
   ]
  },
  {
   "attachments": {},
   "cell_type": "markdown",
   "metadata": {
    "tags": [
     "q9f;img;1"
    ]
   },
   "source": [
    "*My image*"
   ]
  },
  {
   "attachments": {},
   "cell_type": "markdown",
   "metadata": {},
   "source": [
    "### **Studio Class (SC) 9, Question 7:** <a id=\"q9g\"></a>\n",
    "\n",
    "Record your group's 3 Context Scenarios"
   ]
  },
  {
   "attachments": {},
   "cell_type": "markdown",
   "metadata": {
    "tags": [
     "q9g;longtext;1"
    ]
   },
   "source": [
    "*My Answer*"
   ]
  },
  {
   "attachments": {},
   "cell_type": "markdown",
   "metadata": {},
   "source": [
    "### **Studio Class (SC) 9, Question 8:** <a id=\"q9h\"></a>\n",
    "\n",
    "Provide the image of your individual storyboard"
   ]
  },
  {
   "attachments": {},
   "cell_type": "markdown",
   "metadata": {
    "tags": [
     "q9h;img;1"
    ]
   },
   "source": [
    "*My image*"
   ]
  },
  {
   "attachments": {},
   "cell_type": "markdown",
   "metadata": {},
   "source": [
    "<style>\n",
    "h2 {\n",
    "   text-align: center;\n",
    "}\n",
    "hr {\n",
    "  border: none;\n",
    "  border-top: 6px ridge #04cfc5;\n",
    "}\n",
    "</style>\n",
    "___\n",
    "\n",
    "## Studio Class 10: Paper Prototyping\n",
    "\n",
    "### Preparation Activities"
   ]
  },
  {
   "attachments": {},
   "cell_type": "markdown",
   "metadata": {},
   "source": [
    "**Questions**"
   ]
  },
  {
   "attachments": {},
   "cell_type": "markdown",
   "metadata": {},
   "source": [
    "### **Studio Class (SC) 10, Question 1:** <a id=\"q10a\"></a>\n",
    "\n",
    "Why should we conduct paper prototyping as part of the User-Centred Design\n",
    "m process?"
   ]
  },
  {
   "attachments": {},
   "cell_type": "markdown",
   "metadata": {
    "tags": [
     "q10a;longtext;1"
    ]
   },
   "source": [
    "*My Answer*"
   ]
  },
  {
   "attachments": {},
   "cell_type": "markdown",
   "metadata": {},
   "source": [
    "### **Studio Class (SC) 10, Question 2:** <a id=\"q10b\"></a>\n",
    "\n",
    "How do the following elements of the User-Centred Design process help to infor the construction of a Paper Prototype?"
   ]
  },
  {
   "attachments": {},
   "cell_type": "markdown",
   "metadata": {
    "tags": [
     "q10b;longtext;1"
    ]
   },
   "source": [
    "| Element | Answer |\n",
    "|---|---|\n",
    "| Persona | *My Answer* |\n",
    "| Scenario (Context & Keypath) | *My Answer* |"
   ]
  },
  {
   "attachments": {},
   "cell_type": "markdown",
   "metadata": {},
   "source": [
    "### **Studio Class (SC) 10, Question 3:** <a id=\"q10c\"></a>\n",
    "\n",
    "What are the benefit(s) of testing a paper prototype with an end user?"
   ]
  },
  {
   "attachments": {},
   "cell_type": "markdown",
   "metadata": {
    "tags": [
     "q10c;longtext;1"
    ]
   },
   "source": [
    "*My Answer*"
   ]
  },
  {
   "attachments": {},
   "cell_type": "markdown",
   "metadata": {},
   "source": [
    "### Studio Class Work"
   ]
  },
  {
   "attachments": {},
   "cell_type": "markdown",
   "metadata": {},
   "source": [
    "**Questions**"
   ]
  },
  {
   "attachments": {},
   "cell_type": "markdown",
   "metadata": {},
   "source": [
    "### **Studio Class (SC) 10, Question 4:** <a id=\"q10d\"></a>\n",
    "\n",
    "Provide a single image that shows your first screen with a description and mapping for the \"ChoreTracker\" App for which your group will create a prototype."
   ]
  },
  {
   "attachments": {},
   "cell_type": "markdown",
   "metadata": {
    "tags": [
     "q10d;img;1"
    ]
   },
   "source": [
    "*My image*"
   ]
  },
  {
   "attachments": {},
   "cell_type": "markdown",
   "metadata": {},
   "source": [
    "### **Studio Class (SC) 10, Question 5:** <a id=\"q10e\"></a>\n",
    "\n",
    "Provide a single image that shows your second screen with a description and mapping for the \"ChoreTracker\" App for which your group will create a prototype."
   ]
  },
  {
   "attachments": {},
   "cell_type": "markdown",
   "metadata": {
    "tags": [
     "q10e;img;1"
    ]
   },
   "source": [
    "*My image*"
   ]
  },
  {
   "attachments": {},
   "cell_type": "markdown",
   "metadata": {},
   "source": [
    "### **Studio Class (SC) 10, Question 6:** <a id=\"q10f\"></a>\n",
    "\n",
    "Provide a single image that shows your third screen with a description and mapping for the \"ChoreTracker\" App for which your group will create a prototype."
   ]
  },
  {
   "attachments": {},
   "cell_type": "markdown",
   "metadata": {
    "tags": [
     "q10f;img;1"
    ]
   },
   "source": [
    "*My image*"
   ]
  },
  {
   "attachments": {},
   "cell_type": "markdown",
   "metadata": {},
   "source": [
    "### **Studio Class (SC) 10, Question 7:** <a id=\"q10g\"></a>\n",
    "\n",
    "Your group's choice of navigation model & explanation.\n",
    "Document these choices with your explainations."
   ]
  },
  {
   "attachments": {},
   "cell_type": "markdown",
   "metadata": {
    "tags": [
     "q10g;longtext;1"
    ]
   },
   "source": [
    "*My Answer*"
   ]
  },
  {
   "attachments": {},
   "cell_type": "markdown",
   "metadata": {},
   "source": [
    "### **Studio Class (SC) 10, Question 8:** <a id=\"q10h\"></a>\n",
    "\n",
    "For each page, determine at least one Navigation Design Pattern that will be used on the page.\n",
    "Document these choices with your explainations."
   ]
  },
  {
   "attachments": {},
   "cell_type": "markdown",
   "metadata": {
    "tags": [
     "q10h;longtext;1"
    ]
   },
   "source": [
    "*My Answer*"
   ]
  },
  {
   "attachments": {},
   "cell_type": "markdown",
   "metadata": {},
   "source": [
    "### **Studio Class (SC) 10, Question 9:** <a id=\"q10i\"></a>\n",
    "\n",
    "For each page, determine how at least one Page Layout Design Pattern will be applied on the page.\n",
    "Document these choices with your explainations."
   ]
  },
  {
   "attachments": {},
   "cell_type": "markdown",
   "metadata": {
    "tags": [
     "q10i;longtext;1"
    ]
   },
   "source": [
    "*My Answer*"
   ]
  },
  {
   "attachments": {},
   "cell_type": "markdown",
   "metadata": {},
   "source": [
    "### **Studio Class (SC) 10, Question 10:** <a id=\"q10j\"></a>\n",
    "\n",
    "For each page, determine at least one Interaction Design Pattern that will be used on the page.\n",
    "Document these choices with your explainations."
   ]
  },
  {
   "attachments": {},
   "cell_type": "markdown",
   "metadata": {
    "tags": [
     "q10j;longtext;1"
    ]
   },
   "source": [
    "*My Answer*"
   ]
  },
  {
   "attachments": {},
   "cell_type": "markdown",
   "metadata": {},
   "source": [
    "### **Studio Class (SC) 10, Question 11:** <a id=\"q10k\"></a>\n",
    "\n",
    "Provide screenshots of your group's entire paper prototype."
   ]
  },
  {
   "attachments": {},
   "cell_type": "markdown",
   "metadata": {
    "tags": [
     "q10k;img;1"
    ]
   },
   "source": [
    "*My image*"
   ]
  },
  {
   "attachments": {},
   "cell_type": "markdown",
   "metadata": {},
   "source": [
    "### **Studio Class (SC) 10, Question 12:** <a id=\"q10l\"></a>\n",
    "\n",
    "Provide screenshots of your individual contributions to your group's paper prototype"
   ]
  },
  {
   "attachments": {},
   "cell_type": "markdown",
   "metadata": {
    "tags": [
     "q10l;img;1"
    ]
   },
   "source": [
    "*My image*"
   ]
  },
  {
   "attachments": {},
   "cell_type": "markdown",
   "metadata": {},
   "source": [
    "### **Studio Class (SC) 10, Question 13:** <a id=\"q10m\"></a>\n",
    "\n",
    "Group Review:\n",
    "\n",
    "For the parts of the key path scenario where elements of the paper prototype were missing, create additional features as required. \n",
    "\n",
    "Provide the additional screenshots that include these features. "
   ]
  },
  {
   "attachments": {},
   "cell_type": "markdown",
   "metadata": {
    "tags": [
     "q10m;img;1"
    ]
   },
   "source": [
    "*My image*"
   ]
  },
  {
   "attachments": {},
   "cell_type": "markdown",
   "metadata": {},
   "source": [
    "<style>\n",
    "h2 {\n",
    "   text-align: center;\n",
    "}\n",
    "hr {\n",
    "  border: none;\n",
    "  border-top: 6px ridge #04cfc5;\n",
    "}\n",
    "</style>\n",
    "___\n",
    "\n",
    "\n",
    "## Studio Class 11: User Research & User Feedback Methods\n",
    "\n",
    "### Preparation Activities"
   ]
  },
  {
   "attachments": {},
   "cell_type": "markdown",
   "metadata": {},
   "source": [
    "**Questions**"
   ]
  },
  {
   "attachments": {},
   "cell_type": "markdown",
   "metadata": {},
   "source": [
    "### **Studio Class (SC) 11, Question 1:** <a id=\"q11a\"></a>\n",
    "\n",
    "In Week 1, we completed an activity to construct a User Experience Map, which is one form of user research that is not included in Landscape of User Research Methods diagram.\n",
    "\n",
    "Annotate the diagram to place the User Experience Map on the diagram indicating where an experience map fits in the diagram.\n",
    "\n",
    "The annotation should include notes as to why you placed it where you did."
   ]
  },
  {
   "attachments": {},
   "cell_type": "markdown",
   "metadata": {
    "tags": [
     "q11a;img;1"
    ]
   },
   "source": [
    "*My image*"
   ]
  },
  {
   "attachments": {},
   "cell_type": "markdown",
   "metadata": {},
   "source": [
    "### **Studio Class (SC) 11, Question 2:** <a id=\"q11b\"></a>\n",
    "\n",
    "Why is it useful to start writing a survey with expressing the 'report' or types of conclusions we would like to draw from the survey?"
   ]
  },
  {
   "attachments": {},
   "cell_type": "markdown",
   "metadata": {
    "tags": [
     "q11b;longtext;1"
    ]
   },
   "source": [
    "|Question |\n",
    "|---|\n",
    "| Why is it useful to start writing a survey with expressing the 'report' or types of conclusions we would like to draw from the survey? |\n",
    "|*My Answer* |\n",
    "| Why should the survey questions be unbiased? | \n",
    "|*My Answer* |\n",
    " "
   ]
  },
  {
   "attachments": {},
   "cell_type": "markdown",
   "metadata": {},
   "source": [
    "### **Studio Class (SC) 11, Question 3:** <a id=\"q11c\"></a>\n",
    "\n",
    "Describe 3 different types of survey questions."
   ]
  },
  {
   "attachments": {},
   "cell_type": "markdown",
   "metadata": {
    "tags": [
     "q11c;longtext;1"
    ]
   },
   "source": [
    "| Question Type | Answer |\n",
    "|---|---|\n",
    "| *Question type 1* | *My Answer* |\n",
    "| *Question type 2* | *My Answer* |\n",
    "| *Question type 3* | *My Answer* |"
   ]
  },
  {
   "attachments": {},
   "cell_type": "markdown",
   "metadata": {},
   "source": [
    "### **Studio Class (SC) 11, Question 4:** <a id=\"q11d\"></a>\n",
    "\n",
    "Describe 3 common mistakes when writing survey questions."
   ]
  },
  {
   "attachments": {},
   "cell_type": "markdown",
   "metadata": {
    "tags": [
     "q11d;longtext;1"
    ]
   },
   "source": [
    "| Mistake | Answer |\n",
    "|---|---|\n",
    "| *Mistake 1* | *My Answer* |\n",
    "| *Mistake 2* | *My Answer* |\n",
    "| *Mistake 3* | *My Answer* |"
   ]
  },
  {
   "attachments": {},
   "cell_type": "markdown",
   "metadata": {},
   "source": [
    "### **Studio Class (SC) 11, Question 5:** <a id=\"q11e\"></a>\n",
    "\n",
    "Why is it important to be careful about the people you survey?"
   ]
  },
  {
   "attachments": {},
   "cell_type": "markdown",
   "metadata": {
    "tags": [
     "q11e;longtext;1"
    ]
   },
   "source": [
    "*My Answer*"
   ]
  },
  {
   "attachments": {},
   "cell_type": "markdown",
   "metadata": {},
   "source": [
    "### **Studio Class (SC) 11, Question 6:** <a id=\"q11f\"></a>\n",
    "\n",
    "When is it beneficial to use the following quantitative measures that can be computed from survey responses:"
   ]
  },
  {
   "attachments": {},
   "cell_type": "markdown",
   "metadata": {
    "tags": [
     "q11f;longtext;1"
    ]
   },
   "source": [
    "| Measure | Answer |\n",
    "|---|---|\n",
    "| Median | *My Answer* |\n",
    "| Mean | *My Answer* |\n",
    "| Mode | *My Answer* |"
   ]
  },
  {
   "attachments": {},
   "cell_type": "markdown",
   "metadata": {},
   "source": [
    "### **Studio Class (SC) 11, Question 7:** <a id=\"q11g\"></a>\n",
    "\n",
    "What is the purpose of PIF?"
   ]
  },
  {
   "attachments": {},
   "cell_type": "markdown",
   "metadata": {
    "tags": [
     "q11g;longtext;1"
    ]
   },
   "source": [
    "*My Answer*"
   ]
  },
  {
   "attachments": {},
   "cell_type": "markdown",
   "metadata": {},
   "source": [
    "### Studio Class Work"
   ]
  },
  {
   "attachments": {},
   "cell_type": "markdown",
   "metadata": {},
   "source": [
    "**Questions**"
   ]
  },
  {
   "attachments": {},
   "cell_type": "markdown",
   "metadata": {},
   "source": [
    "### **Studio Class (SC) 11, Question 8:** <a id=\"q11h\"></a>\n",
    "\n",
    "Describe in your own words why each principle is important when it comes to conducting research."
   ]
  },
  {
   "attachments": {},
   "cell_type": "markdown",
   "metadata": {
    "tags": [
     "q11h;longtext;1"
    ]
   },
   "source": [
    "|Number | Principle Name| Answer |\n",
    "|---|---|---|\n",
    "| 1 | *My Answer* | *My Answer* |\n",
    "| 2 | *My Answer* | *My Answer* |\n",
    "| 3 | *My Answer* | *My Answer* |\n",
    "| 4 | *My Answer* | *My Answer* |\n",
    "| 5 | *My Answer* | *My Answer* |\n",
    "| 6 | *My Answer* | *My Answer* |\n",
    "| 7 | *My Answer* | *My Answer* |\n",
    "| 8 | *My Answer* | *My Answer* |"
   ]
  },
  {
   "attachments": {},
   "cell_type": "markdown",
   "metadata": {},
   "source": [
    "### **Studio Class (SC) 11, Question 9:** <a id=\"q11i\"></a>\n",
    "\n",
    "For each stage of the UCD process identify an appropriate research method along with any pitfalls that researchers must be careful about to ensure their work complies with the Principles of responsible research conduct."
   ]
  },
  {
   "attachments": {},
   "cell_type": "markdown",
   "metadata": {
    "tags": [
     "q11i;longtext;1"
    ]
   },
   "source": [
    "|UCD Stage | Research Method | Description | Pitfall |\n",
    "|---|---|---|---|\n",
    "| User Data | *My Answer* | *My Answer* | *My Answer* |\n",
    "| Pain Points & Goals | *My Answer* | *My Answer* | *My Answer* |\n",
    "| Personas | *My Answer* | *My Answer* | *My Answer* |\n",
    "| Ideations | *My Answer* | *My Answer* | *My Answer* |\n",
    "| Scenarios & Storyboarding | *My Answer* | *My Answer* | *My Answer* |\n",
    "| Prototyping | *My Answer* | *My Answer* | *My Answer* |"
   ]
  },
  {
   "attachments": {},
   "cell_type": "markdown",
   "metadata": {},
   "source": [
    "### **Studio Class (SC) 11, Question 10:** <a id=\"q11j\"></a>\n",
    "\n",
    "Provide an image of the changed parts of your PIF."
   ]
  },
  {
   "attachments": {},
   "cell_type": "markdown",
   "metadata": {
    "tags": [
     "q11j;img;1"
    ]
   },
   "source": [
    "*My image*"
   ]
  },
  {
   "attachments": {},
   "cell_type": "markdown",
   "metadata": {},
   "source": [
    "### **Studio Class (SC) 11, Question 11:** <a id=\"q11k\"></a>\n",
    "\n",
    "Provide a list of your survey questions."
   ]
  },
  {
   "attachments": {},
   "cell_type": "markdown",
   "metadata": {
    "tags": [
     "q11k;longtext;1"
    ]
   },
   "source": [
    "*My Answer*"
   ]
  },
  {
   "attachments": {},
   "cell_type": "markdown",
   "metadata": {},
   "source": [
    "<style>\n",
    "h2 {\n",
    "   text-align: center;\n",
    "}\n",
    "hr {\n",
    "  border: none;\n",
    "  border-top: 6px ridge #04cfc5;\n",
    "}\n",
    "</style>\n",
    "___\n",
    "\n",
    "## Studio Class 12: Usability Testing\n",
    "\n",
    "### Preparation Activities"
   ]
  },
  {
   "attachments": {},
   "cell_type": "markdown",
   "metadata": {},
   "source": [
    "**Questions**"
   ]
  },
  {
   "attachments": {},
   "cell_type": "markdown",
   "metadata": {},
   "source": [
    "### **Studio Class (SC) 12, Question 1:** <a id=\"q12a\"></a>\n",
    "\n",
    "Usability Testing:\n",
    "\n",
    "Answer the following questions:"
   ]
  },
  {
   "attachments": {},
   "cell_type": "markdown",
   "metadata": {
    "tags": [
     "q12a;longtext;1"
    ]
   },
   "source": [
    "|Question |\n",
    "|---|\n",
    "| What separates usability testing from other forms of testing? |\n",
    "|*My Answer* |\n",
    "| Why do you only require a small number of usability testing participants? | \n",
    "|*My Answer* |\n",
    "| What can we use to determine the participants to recruit for a usability test? |\n",
    "|*My Answer* | \n",
    "| What are the purpose of screener questions? |\n",
    "|*My Answer* | \n",
    " "
   ]
  },
  {
   "attachments": {},
   "cell_type": "markdown",
   "metadata": {},
   "source": [
    "### **Studio Class (SC) 12, Question 2:** <a id=\"q12b\"></a>\n",
    "\n",
    "Planning Usability Testing:\n",
    "\n",
    "Answer the following questions:"
   ]
  },
  {
   "attachments": {},
   "cell_type": "markdown",
   "metadata": {
    "tags": [
     "q12b;longtext;1"
    ]
   },
   "source": [
    "|Question |\n",
    "|---|\n",
    "| What is an exploratory task? |\n",
    "|*My Answer* |\n",
    "| What is a directed task? | \n",
    "|*My Answer* |\n",
    "| What is an impression task? |\n",
    "|*My Answer* | \n",
    "| What are the elements contained in a Test Plan? |\n",
    "|*My Answer* | \n",
    "| Who is the most important person in a usability test? |\n",
    "|*My Answer* | "
   ]
  },
  {
   "attachments": {},
   "cell_type": "markdown",
   "metadata": {},
   "source": [
    "### **Studio Class (SC) 12, Question 3:** <a id=\"q12c\"></a>\n",
    "\n",
    "Conducting Usability Testing:\n",
    "\n",
    "Answer the following questions:"
   ]
  },
  {
   "attachments": {},
   "cell_type": "markdown",
   "metadata": {
    "tags": [
     "q12c;longtext;1"
    ]
   },
   "source": [
    "|Question |\n",
    "|---|\n",
    "| Describe a good approach to being a moderator of a usability test. |\n",
    "|*My Answer* |\n",
    "| Describe a good approach to being a observer of a usability test. | \n",
    "|*My Answer* |\n"
   ]
  },
  {
   "attachments": {},
   "cell_type": "markdown",
   "metadata": {},
   "source": [
    "### Studio Class Work"
   ]
  },
  {
   "attachments": {},
   "cell_type": "markdown",
   "metadata": {},
   "source": [
    "**Questions**"
   ]
  },
  {
   "attachments": {},
   "cell_type": "markdown",
   "metadata": {},
   "source": [
    "### **Studio Class (SC) 12, Question 4:** <a id=\"q12d\"></a>\n",
    "\n",
    "Provide an image of the changed parts of your PIF.\n",
    "\n",
    "This is mandatory if this is missing then you will receive zero for this part of the portfolio."
   ]
  },
  {
   "attachments": {},
   "cell_type": "markdown",
   "metadata": {
    "tags": [
     "q12d;img;1"
    ]
   },
   "source": [
    "*My image*"
   ]
  },
  {
   "attachments": {},
   "cell_type": "markdown",
   "metadata": {},
   "source": [
    "### **Studio Class (SC) 12, Question 5:** <a id=\"q12e\"></a>\n",
    "\n",
    "Your Usability Test Plan:"
   ]
  },
  {
   "attachments": {},
   "cell_type": "markdown",
   "metadata": {
    "tags": [
     "q12e;longtext;1"
    ]
   },
   "source": [
    "|Question |\n",
    "|---|\n",
    "| Tasks for users to complete: |\n",
    "|*My Answer* |\n",
    "| Screener Questions: | \n",
    "|*My Answer* |\n",
    "| Moderator Script: | \n",
    "|*My Answer* |\n",
    "| Post Usability Test Survey Questions: | \n",
    "|*My Answer* |"
   ]
  },
  {
   "attachments": {},
   "cell_type": "markdown",
   "metadata": {},
   "source": [
    "### **Studio Class (SC) 12, Question 6:** <a id=\"q12f\"></a>\n",
    "\n",
    "Usability Test Results (Participant 1): \n",
    "\n",
    "Provide an image of the changed parts of your PIF.\n",
    "\n",
    "This is mandatory if this is missing then you will receive zero for this part of the portfolio."
   ]
  },
  {
   "attachments": {},
   "cell_type": "markdown",
   "metadata": {
    "tags": [
     "q12f;img;1"
    ]
   },
   "source": [
    "*My image*"
   ]
  },
  {
   "attachments": {},
   "cell_type": "markdown",
   "metadata": {},
   "source": [
    "### **Studio Class (SC) 12, Question 7:** <a id=\"q12g\"></a>\n",
    "\n",
    "Usability Test Results (Participant 1): "
   ]
  },
  {
   "attachments": {},
   "cell_type": "markdown",
   "metadata": {
    "tags": [
     "q12g;longtext;1"
    ]
   },
   "source": [
    "|Question |\n",
    "|---|\n",
    "| Notes from observers: |\n",
    "|*My Answer* |\n",
    "| Post Usability test survey results: | \n",
    "|*My Answer* |"
   ]
  },
  {
   "attachments": {},
   "cell_type": "markdown",
   "metadata": {},
   "source": [
    "### **Studio Class (SC) 12, Question 8:** <a id=\"q12h\"></a>\n",
    "\n",
    "Usability Test Results (Participant 2): \n",
    "\n",
    "Provide an image of the changed parts of your PIF.\n",
    "\n",
    "This is mandatory if this is missing then you will receive zero for this part of the portfolio."
   ]
  },
  {
   "attachments": {},
   "cell_type": "markdown",
   "metadata": {
    "tags": [
     "q12h;img;1"
    ]
   },
   "source": [
    "*My image*"
   ]
  },
  {
   "attachments": {},
   "cell_type": "markdown",
   "metadata": {},
   "source": [
    "### **Studio Class (SC) 12, Question 9:** <a id=\"q12i\"></a>\n",
    "\n",
    "Usability Test Results (Participant 2): "
   ]
  },
  {
   "attachments": {},
   "cell_type": "markdown",
   "metadata": {
    "tags": [
     "q12i;longtext;1"
    ]
   },
   "source": [
    "|Question |\n",
    "|---|\n",
    "| Notes from observers: |\n",
    "|*My Answer* |\n",
    "| Post Usability test survey results: | \n",
    "|*My Answer* |"
   ]
  },
  {
   "attachments": {},
   "cell_type": "markdown",
   "metadata": {},
   "source": [
    "### **Studio Class (SC) 12, Question 10:** <a id=\"q12j\"></a>\n",
    "\n",
    "Summary of the changes that you propose to your paper prototype as a result of the usability testing:"
   ]
  },
  {
   "attachments": {},
   "cell_type": "markdown",
   "metadata": {
    "tags": [
     "q12j;longtext;1"
    ]
   },
   "source": [
    "*My Answer*"
   ]
  }
 ],
 "metadata": {
  "celltoolbar": "Tags",
  "kernelspec": {
   "display_name": "Python 3 (ipykernel)",
   "language": "python",
   "name": "python3"
  },
  "language_info": {
   "codemirror_mode": {
    "name": "ipython",
    "version": 3
   },
   "file_extension": ".py",
   "mimetype": "text/x-python",
   "name": "python",
   "nbconvert_exporter": "python",
   "pygments_lexer": "ipython3",
   "version": "3.11.2"
  },
  "vscode": {
   "interpreter": {
    "hash": "054c096e4d4b57417bb781656d4f5218b0e3c2d49c7047d1ff7347fb636be8e8"
   }
  }
 },
 "nbformat": 4,
 "nbformat_minor": 2
}
