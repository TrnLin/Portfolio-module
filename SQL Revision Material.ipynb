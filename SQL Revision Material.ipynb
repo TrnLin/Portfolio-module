{
 "cells": [
  {
   "cell_type": "code",
   "execution_count": null,
   "metadata": {},
   "outputs": [],
   "source": [
    "Standard SQL Query Statement:\n",
    "\n",
    "SELECT something FROM table WHERE condition;\n",
    "\n",
    "Statement Format:\n",
    " - CAPITALIZED WORDS: Actual SQL Query Syntax\n",
    " - lowercase words: User Input"
   ]
  },
  {
   "cell_type": "code",
   "execution_count": null,
   "metadata": {},
   "outputs": [],
   "source": [
    "SELECT: to use for all queries that return values, it is the main way to access the database\n",
    "FROM: to specify the table to access\n",
    "WHERE: to specify to the query the condition to filter the table data access"
   ]
  },
  {
   "cell_type": "code",
   "execution_count": null,
   "metadata": {},
   "outputs": [],
   "source": [
    "Sorting:\n",
    "\n",
    "To sort a table SQL uses the ORDER BY statement, which is placed at the end of the query statement.\n",
    "\n",
    "Example:\n",
    "\n",
    "ORDER BY column_name ASC/DESC;\n",
    "\n",
    "ORDER BY column1, column2, ... ASC/DESC;\n",
    "\n",
    "SELECT column1, column2, ... FROM table_name ORDER BY column1, column2, ... ASC/DESC;\n"
   ]
  },
  {
   "cell_type": "code",
   "execution_count": null,
   "metadata": {},
   "outputs": [],
   "source": [
    "LIMIT: to limit the number of rows returned by the query\n",
    "\n",
    "OFFSET: to specify the number of rows to skip before starting to return rows from the query"
   ]
  }
 ],
 "metadata": {
  "language_info": {
   "name": "python"
  }
 },
 "nbformat": 4,
 "nbformat_minor": 2
}
