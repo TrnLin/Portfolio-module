{
 "cells": [
  {
   "cell_type": "code",
   "execution_count": null,
   "metadata": {},
   "outputs": [],
   "source": [
    "Design Patterns: Standard referema points for the experienced user interface design.\n",
    "    \n",
    "Advantages:\n",
    "- Faster design procedure\n",
    "- Speed up development time \n",
    "- usable / reusable"
   ]
  },
  {
   "cell_type": "code",
   "execution_count": null,
   "metadata": {},
   "outputs": [],
   "source": [
    "Navigation Model:\n",
    " - Global Navigation: What's found on every main screen, normally show as menus, tabs, sidebar and this is how the user move around the web\n",
    " - Hub and Spoke: Mostly use in mobile application. HoS list all the components of the application onto the home screen. IT require user to go back to home screen if user want to navigate to a new page.\n",
    " - Fully Connected: This model allows the user to access everypages and components from everwhere in the product.\n",
    " - Multi Level: Like fully connected, but only the subpage is connected to each others, sub pages can be found on the side bar.\n",
    " - Clear entry points: Show the user where exactly they have to go first when entering the site.\n",
    " - Escape Hatch: A way for users to get back to the main section."
   ]
  },
  {
   "cell_type": "code",
   "execution_count": null,
   "metadata": {},
   "outputs": [],
   "source": [
    "Scenarios and Storyboards are part of the User Centered Design process as they create a better solution and communicate the user experience in a human way\n",
    "\n",
    "\n",
    "Benefit of Scenarios and Storyboard: \n",
    "- To confirm that the design is viable and realistica\n",
    "- Providing fundamental types of interaction that is needed for the design\n",
    "- To find errors that might have in the design\n",
    "- To find how the user flow when using the app\n",
    "- Avoid spending time re-do an already done task\n",
    "\n",
    "\n",
    "Relation between Scenarios and Storyboard: Scenarios help to create storyboards, most of the information u need to create a storyboard is already in scenarios. If u have a good scenarios then it is easier for you to create a storyboard\n"
   ]
  },
  {
   "cell_type": "code",
   "execution_count": null,
   "metadata": {},
   "outputs": [],
   "source": [
    "Paper prototypes are fast to build, fast to change and easy to iterate. It is also cheap because it uses cheap material, and takes very little time. Paper prototyping is also very flexible. Users are also more honest with their feedback more then when u give them a pixel perfect product\n",
    "\n",
    "\n",
    "Persona:  is need when we develop the scenario which later use to create the paper prototype\n",
    "\n",
    "\n",
    "Scenarios: To pick the most important feature that the user want to have in the user interface\n",
    "Using paper prototype as a testing method will provide:\n",
    "\n",
    " - Early user feedback: which help identify potential future issues and make necessary \n",
    " - User engagement: it is better to show users a paper prototype then a perfect-pixel design, paper prototype let the user open up and give truthful feedback with minimum drawback \n"
   ]
  },
  {
   "cell_type": "code",
   "execution_count": null,
   "metadata": {},
   "outputs": [],
   "source": [
    "10 Nieslen Heuristics:\n",
    "\n",
    "1. Visibility of system status:\n",
    "- The system should always keep the user informed about what is going on, through \n",
    "appropriate feedback within reasonable time.\n",
    "\n",
    "2. Match between system and the real world:\n",
    "- The system should speak the users' language, with words, phrases and \n",
    "concepts familiar to the user, rather than system-oriented terms. Follow real-world conventions, making information \n",
    "appear in a natural and logical order.\n",
    "\n",
    "3. User control and freedom:\n",
    "- Users often choose system functions by mistake and will need a clearly marked\n",
    " \"emergency exit\" to leave the unwanted state without having to go through an extended dialogue. Support undo and redo.\n",
    "\n",
    "4. Consistency and standards:\n",
    "- Users should not have to wonder whether different words, situations, or actions\n",
    " mean the same thing. Follow platform conventions.\n",
    "\n",
    "5. Error prevention:\n",
    "- Even better than good error messages is a careful design which prevents a problem from \n",
    "occurring in the first place. Either eliminate error-prone conditions or check for them and present users with a \n",
    "confirmation option before they commit to the action.\n",
    "\n",
    "6. Recognition rather than recall:\n",
    "- Minimize the user's memory load by making objects, actions, and options visible. \n",
    "The user should not have to remember information from one part of the dialogue to another. Instructions for use of \n",
    "the system should be visible or easily retrievable whenever appropriate.\n",
    "\n",
    "7. Flexibility and efficiency of use:\n",
    "- Accelerators -- unseen by the novice user -- may often speed up the interaction\n",
    " for the expert user such that the system can cater to both inexperienced and experienced users. Allow users to tailor \n",
    " frequent actions.\n",
    "\n",
    "8. Aesthetic and minimalist design:\n",
    "- Dialogues should not contain information which is irrelevant or rarely needed. Every\n",
    " extra unit of information in a dialogue competes with the relevant units of information and diminishes their relative visibility.\n",
    "\n",
    "9. Help users recognize, diagnose, and recover from errors:\n",
    "- Error messages should be expressed in plain language (no codes),\n",
    " precisely indicate the problem, and constructively suggest a solution.\n",
    "\n",
    "10. Help and documentation:\n",
    "- Even though it is better if the system can be used without documentation, it may be necessary to \n",
    "provide help and documentation. Any such information should be easy to search, focused on the user's task, list concrete steps\n",
    " to be carried out, and not be too large.\n"
   ]
  }
 ],
 "metadata": {
  "language_info": {
   "name": "python"
  }
 },
 "nbformat": 4,
 "nbformat_minor": 2
}
