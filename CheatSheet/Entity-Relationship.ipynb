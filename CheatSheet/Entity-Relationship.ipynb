{
 "cells": [
  {
   "cell_type": "code",
   "execution_count": null,
   "metadata": {},
   "outputs": [],
   "source": [
    "- Strong Entities: Strong Entities is independent, it not rely on other Entities. Strong Entities have a Primary key that \n",
    "are unique to each occurrence of the entity\n",
    "- Weak Entities: Weak Entities is dependent, it rely on other Entities. Weak Entities does not have a Primary key that\n",
    "\n",
    "\n",
    "Entity Relationship Concept\n",
    "- Entity: Entity is a real world object that has attributes that describe the object\n",
    "- Relationship: Relationship is an association between entities\n",
    "- Attribute: Attribute is a property of an entity\n",
    "\n",
    "\n",
    "- Simple Attribute: Simple Attribute is an attribute that cannot be divided into subparts\n",
    "- Composite Attribute: Composite Attribute is an attribute that can be divided into subparts\n",
    "- Multivalued Attribute: Multivalued Attribute is an attribute that can have more than one value\n",
    "- Derived Attribute: Derived Attribute is an attribute that is calculated from other attributes\n",
    "\n",
    "- Cardinality: Cardinality is the number of instances of an entity from a relation that can be associated with the \n",
    "number of instances of another Entity\n",
    "- Participation: Participation is the involvement of an entity in a relationship\n"
   ]
  },
  {
   "cell_type": "code",
   "execution_count": null,
   "metadata": {},
   "outputs": [],
   "source": [
    "Disadvantages of using a spreadsheet to store data\n",
    "\n",
    "- Time consuming\n",
    "- Manual process\n",
    "- Unfit for remote working\n",
    "- Dependant on one person\n",
    "- Lack of collaboration\n",
    "- Vulnerable to costly human errors \n",
    "- Lack of version control"
   ]
  },
  {
   "cell_type": "code",
   "execution_count": null,
   "metadata": {},
   "outputs": [],
   "source": [
    "Properties (or rule) that a relation in a DBMS must satisfy to be a relation\n",
    "\n",
    "- Each row must be unique\n",
    "- Columns store a single type of data\n",
    "- Each column has a unique name\n",
    "- The order of the rows and columns is immaterial\n",
    "- Cell contains a single value"
   ]
  },
  {
   "cell_type": "code",
   "execution_count": null,
   "metadata": {},
   "outputs": [],
   "source": [
    "Database Development Life Cycle compare to User-Centered process\n",
    "\n",
    "- Both have a step where you are going to create a prototype \"Conceptual Design\" & \"Prototyping and building\" to \n",
    "test the system, further more while User-center Design is a linear progress DBMS is not a linear progress"
   ]
  }
 ],
 "metadata": {
  "language_info": {
   "name": "python"
  }
 },
 "nbformat": 4,
 "nbformat_minor": 2
}
